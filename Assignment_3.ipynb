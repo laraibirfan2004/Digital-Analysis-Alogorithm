{
  "nbformat": 4,
  "nbformat_minor": 0,
  "metadata": {
    "colab": {
      "provenance": []
    },
    "kernelspec": {
      "name": "python3",
      "display_name": "Python 3"
    },
    "language_info": {
      "name": "python"
    }
  },
  "cells": [
    {
      "cell_type": "markdown",
      "source": [
        "# **Depth First Search (DFS):**"
      ],
      "metadata": {
        "id": "v5NbaYxrRFyg"
      }
    },
    {
      "cell_type": "markdown",
      "source": [
        "pseudocode:"
      ],
      "metadata": {
        "id": "gNQ-X1nERUsw"
      }
    },
    {
      "cell_type": "code",
      "execution_count": null,
      "metadata": {
        "id": "vXbGEY1sGgA7"
      },
      "outputs": [],
      "source": [
        "DFS(Graph G, Node start):\n",
        "    Initialize an empty stack\n",
        "    Push start node onto stack\n",
        "    Initialize an empty set to keep track of visited nodes\n",
        "\n",
        "    while stack is not empty:\n",
        "        current_node = pop from stack\n",
        "        if current_node is not visited:\n",
        "            mark current_node as visited\n",
        "            process current_node\n",
        "\n",
        "            for each neighbor of current_node:\n",
        "                if neighbor is not visited:\n",
        "                    push neighbor onto stack"
      ]
    },
    {
      "cell_type": "markdown",
      "source": [
        "Python code:"
      ],
      "metadata": {
        "id": "kzJmFS0zSLjQ"
      }
    },
    {
      "cell_type": "code",
      "source": [
        "def dfs(graph, start):\n",
        "    stack = [start]\n",
        "    visited = set()\n",
        "\n",
        "    while stack:\n",
        "        current_node = stack.pop()\n",
        "        if current_node not in visited:\n",
        "            visited.add(current_node)\n",
        "            print(current_node)  # Process current node\n",
        "\n",
        "            for neighbor in graph[current_node]:\n",
        "                if neighbor not in visited:\n",
        "                    stack.append(neighbor)\n",
        "\n",
        "# Example usage:\n",
        "graph = {\n",
        "    'A': ['B', 'C'],\n",
        "    'B': ['A', 'D', 'E'],\n",
        "    'C': ['A', 'F'],\n",
        "    'D': ['B'],\n",
        "    'E': ['B', 'F'],\n",
        "    'F': ['C', 'E']\n",
        "}\n",
        "\n",
        "dfs(graph, 'A')"
      ],
      "metadata": {
        "id": "0rToA3khSPIf",
        "colab": {
          "base_uri": "https://localhost:8080/"
        },
        "outputId": "122c34b4-e46d-4815-a1d5-9063a0d792f9"
      },
      "execution_count": 1,
      "outputs": [
        {
          "output_type": "stream",
          "name": "stdout",
          "text": [
            "A\n",
            "C\n",
            "F\n",
            "E\n",
            "B\n",
            "D\n"
          ]
        }
      ]
    },
    {
      "cell_type": "markdown",
      "source": [
        "Time complexity of DFS: O(V + E)"
      ],
      "metadata": {
        "id": "CRrheQMtSD7o"
      }
    },
    {
      "cell_type": "markdown",
      "source": [
        "# **Breadth First Search (BFS):**"
      ],
      "metadata": {
        "id": "Uzu9xEgzSYT_"
      }
    },
    {
      "cell_type": "markdown",
      "source": [
        "pseudocode:"
      ],
      "metadata": {
        "id": "GmsJlff4SepS"
      }
    },
    {
      "cell_type": "code",
      "source": [
        "BFS(Graph G, Node start):\n",
        "    Initialize an empty queue\n",
        "    Enqueue start node onto queue\n",
        "    Initialize an empty set to keep track of visited nodes\n",
        "\n",
        "    while queue is not empty:\n",
        "        current_node = dequeue from queue\n",
        "        if current_node is not visited:\n",
        "            mark current_node as visited\n",
        "            process current_node\n",
        "\n",
        "            for each neighbor of current_node:\n",
        "                if neighbor is not visited:\n",
        "                    enqueue neighbor onto queue"
      ],
      "metadata": {
        "id": "zStWjSzpSiZD"
      },
      "execution_count": null,
      "outputs": []
    },
    {
      "cell_type": "markdown",
      "source": [
        "Python code:"
      ],
      "metadata": {
        "id": "EbQxtxAMSpRI"
      }
    },
    {
      "cell_type": "code",
      "source": [
        "from collections import deque\n",
        "\n",
        "def bfs(graph, start):\n",
        "    queue = deque([start])\n",
        "    visited = set()\n",
        "\n",
        "    while queue:\n",
        "        current_node = queue.popleft()\n",
        "        if current_node not in visited:\n",
        "            visited.add(current_node)\n",
        "            print(current_node)  # Process current node\n",
        "\n",
        "            for neighbor in graph[current_node]:\n",
        "                if neighbor not in visited:\n",
        "                    queue.append(neighbor)\n",
        "\n",
        "# Example usage:\n",
        "graph = {\n",
        "    'A': ['B', 'C'],\n",
        "    'B': ['A', 'D', 'E'],\n",
        "    'C': ['A', 'F'],\n",
        "    'D': ['B'],\n",
        "    'E': ['B', 'F'],\n",
        "    'F': ['C', 'E']\n",
        "}\n",
        "\n",
        "bfs(graph, 'A')"
      ],
      "metadata": {
        "id": "QZbsMJBpSt83",
        "colab": {
          "base_uri": "https://localhost:8080/"
        },
        "outputId": "8e151f22-c400-497e-dc96-5adf9f1eac3f"
      },
      "execution_count": 2,
      "outputs": [
        {
          "output_type": "stream",
          "name": "stdout",
          "text": [
            "A\n",
            "B\n",
            "C\n",
            "D\n",
            "E\n",
            "F\n"
          ]
        }
      ]
    },
    {
      "cell_type": "markdown",
      "source": [
        "Time complexity of BFS: O(V + E)"
      ],
      "metadata": {
        "id": "ZcS0seZVS0bw"
      }
    },
    {
      "cell_type": "markdown",
      "source": [
        "# **Dijkstra's Algorithm:**"
      ],
      "metadata": {
        "id": "hEud4OQqS65y"
      }
    },
    {
      "cell_type": "markdown",
      "source": [
        "pseudocode:"
      ],
      "metadata": {
        "id": "kP98uIsAS_q7"
      }
    },
    {
      "cell_type": "code",
      "source": [
        "Dijkstra(Graph G, Node start):\n",
        "    Initialize a priority queue (min-heap) Q\n",
        "    Add start node to Q with distance 0\n",
        "    Initialize an empty set to keep track of visited nodes\n",
        "    Initialize an array dist[] to store minimum distance from start to each node\n",
        "    Set distance of all nodes to infinity initially, except start node (0)\n",
        "\n",
        "    while Q is not empty:\n",
        "        current_node = node in Q with minimum distance\n",
        "        remove current_node from Q\n",
        "\n",
        "        if current_node is not visited:\n",
        "            mark current_node as visited\n",
        "\n",
        "            for each neighbor of current_node:\n",
        "                calculate tentative_distance = dist[current_node] + distance between current_node and neighbor\n",
        "\n",
        "                if tentative_distance < dist[neighbor]:\n",
        "                    update dist[neighbor] = tentative_distance\n",
        "                    enqueue neighbor into Q with priority = tentative_distance\n",
        "\n",
        "    return dist[]"
      ],
      "metadata": {
        "id": "8COoPk3uTCr6"
      },
      "execution_count": null,
      "outputs": []
    },
    {
      "cell_type": "markdown",
      "source": [
        "**Python code:**"
      ],
      "metadata": {
        "id": "oXj5mdvjTFIV"
      }
    },
    {
      "cell_type": "code",
      "source": [
        "import heapq\n",
        "\n",
        "def dijkstra(graph, start):\n",
        "    distances = {node: float('inf') for node in graph}\n",
        "    distances[start] = 0\n",
        "    priority_queue = [(0, start)]  # (distance, node)\n",
        "    visited = set()\n",
        "\n",
        "    while priority_queue:\n",
        "        current_distance, current_node = heapq.heappop(priority_queue)\n",
        "        if current_node not in visited:\n",
        "            visited.add(current_node)\n",
        "\n",
        "            for neighbor, weight in graph[current_node].items():\n",
        "                distance = current_distance + weight\n",
        "                if distance < distances[neighbor]:\n",
        "                    distances[neighbor] = distance\n",
        "                    heapq.heappush(priority_queue, (distance, neighbor))\n",
        "\n",
        "    return distances\n",
        "\n",
        "# Example usage:\n",
        "graph = {\n",
        "    'A': {'B': 5, 'C': 3},\n",
        "    'B': {'A': 5, 'D': 2, 'E': 4},\n",
        "    'C': {'A': 3, 'F': 7},\n",
        "    'D': {'B': 2},\n",
        "    'E': {'B': 4, 'F': 6},\n",
        "    'F': {'C': 7, 'E': 6}\n",
        "}\n",
        "\n",
        "start_node = 'A'\n",
        "print(dijkstra(graph, start_node))"
      ],
      "metadata": {
        "id": "RkDvsEF6TJoe",
        "colab": {
          "base_uri": "https://localhost:8080/"
        },
        "outputId": "2ed828eb-e007-495a-c7cd-932665b08b2a"
      },
      "execution_count": 3,
      "outputs": [
        {
          "output_type": "stream",
          "name": "stdout",
          "text": [
            "{'A': 0, 'B': 5, 'C': 3, 'D': 7, 'E': 9, 'F': 10}\n"
          ]
        }
      ]
    },
    {
      "cell_type": "markdown",
      "source": [
        "Time complexity of Dijkstra's Algorithm using a binary heap: O((V + E) * log(V))\n",
        "\n",
        "If a Fibonacci heap is used, the time complexity can be reduced to O(V * log(V) + E)"
      ],
      "metadata": {
        "id": "DddC_wJNTQrP"
      }
    }
  ]
}